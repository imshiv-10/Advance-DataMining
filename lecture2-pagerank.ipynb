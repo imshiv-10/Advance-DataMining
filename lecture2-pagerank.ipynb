{
  "cells": [
    {
      "cell_type": "markdown",
      "id": "17fb04da",
      "metadata": {
        "id": "17fb04da"
      },
      "source": [
        "# PageRank"
      ]
    },
    {
      "cell_type": "markdown",
      "id": "457822ea",
      "metadata": {
        "id": "457822ea"
      },
      "source": [
        "[Click here to run this notebook on Colab](https://colab.research.google.com/github/AllenDowney/DSIRP/blob/main/notebooks/pagerank.ipynb)"
      ]
    },
    {
      "cell_type": "markdown",
      "id": "bdbcca60",
      "metadata": {
        "id": "bdbcca60"
      },
      "source": [
        "## Ranking pages\n",
        "\n",
        "The goal of information retrieval is to find resources that are relevant and high quality.\n",
        "\"Relevant\" and \"quality\" can be hard to define, and they depend on what kind of resources you are searching.\n",
        "\n",
        "In the context of web search, relevance usually depends on the contents of a web page: if a web page contains the search terms, we assume that it is relevant to the search terms.\n",
        "\n",
        "Quality usually depends on the links between pages.\n",
        "If there are many links to a particular page, we think it is more likely to be high quality, especially if those links come from pages that are high quality themselves.\n",
        "\n",
        "One of the first algorithms to quantify quality in this is PageRank, which was the core of Google's original search engine.\n",
        "As someone who used earlier search engines, like Alta Vista, I can tell you first-hand what a big difference it made.\n",
        "\n",
        "PageRank is described in [\"The PageRank citation ranking: Bringing order to the Web\"](https://web.archive.org/web/20110818093436/http://ilpubs.stanford.edu:8090/422/1/1999-66.pdf) by  Page, Brin, Motwani, and Winograd.\n",
        "\n",
        "It is a surprisingly simple algorithm; it can be computed and updated efficiently; and it is highly effective at identifying good quality pages.\n",
        "So, let's see how it works."
      ]
    },
    {
      "cell_type": "markdown",
      "id": "57b900b4",
      "metadata": {
        "id": "57b900b4"
      },
      "source": [
        "As an example, I'll use `random_k_out_graph` to generate a directed graph with `n` nodes where:\n",
        "\n",
        "* Every node has the same number of out-links, `k`,\n",
        "\n",
        "* The number of in-links varies moderately (controlled by the parameter `alpha`).\n",
        "\n",
        "* Self-links and multiple links are allowed.\n"
      ]
    },
    {
      "cell_type": "code",
      "execution_count": null,
      "id": "621928b1",
      "metadata": {
        "id": "621928b1",
        "outputId": "5585ed7e-309b-40de-d809-8bd19313c9f7",
        "colab": {
          "base_uri": "https://localhost:8080/"
        }
      },
      "outputs": [
        {
          "output_type": "stream",
          "name": "stdout",
          "text": [
            "Looking in indexes: https://pypi.org/simple, https://us-python.pkg.dev/colab-wheels/public/simple/\n",
            "Requirement already satisfied: networkx==2.6.3 in /usr/local/lib/python3.8/dist-packages (2.6.3)\n"
          ]
        }
      ],
      "source": [
        "!pip install networkx==2.6.3\n",
        "import networkx as nx\n",
        "\n",
        "G = nx.random_k_out_graph(n=8, k=2, alpha=0.75)"
      ]
    },
    {
      "cell_type": "markdown",
      "id": "9701ac8d",
      "metadata": {
        "id": "9701ac8d"
      },
      "source": [
        "Here's what the graph looks like. Multiple links appear as slightly thicker lines."
      ]
    },
    {
      "cell_type": "code",
      "execution_count": null,
      "id": "3d33d291",
      "metadata": {
        "id": "3d33d291",
        "outputId": "fdbd8cc7-f4a6-4845-d376-d4f6eb18a490",
        "colab": {
          "base_uri": "https://localhost:8080/",
          "height": 319
        }
      },
      "outputs": [
        {
          "output_type": "display_data",
          "data": {
            "text/plain": [
              "<Figure size 432x288 with 1 Axes>"
            ],
            "image/png": "[encoded data removed]"
          },
          "metadata": {}
        }
      ],
      "source": [
        "def draw_graph(G):\n",
        "    nx.draw_circular(G, node_size=400, with_labels=True)\n",
        "    \n",
        "draw_graph(G)"
      ]
    },
    {
      "cell_type": "markdown",
      "id": "079efdb9",
      "metadata": {
        "id": "079efdb9"
      },
      "source": [
        "NetworkX provides an implementation of PageRank we can use to compute a metric of \"importance\" for each page."
      ]
    },
    {
      "cell_type": "code",
      "execution_count": null,
      "id": "60720ba3",
      "metadata": {
        "tags": [],
        "id": "60720ba3",
        "outputId": "083d96c6-e6cb-44ca-c9ce-818286bac9a8",
        "colab": {
          "base_uri": "https://localhost:8080/"
        }
      },
      "outputs": [
        {
          "output_type": "execute_result",
          "data": {
            "text/plain": [
              "{0: 0.2766349174542419,\n",
              " 1: 0.03260927518243609,\n",
              " 2: 0.03260927518243609,\n",
              " 3: 0.018750000000000003,\n",
              " 4: 0.03260927518243609,\n",
              " 5: 0.5415687066335778,\n",
              " 6: 0.03260927518243609,\n",
              " 7: 0.03260927518243609}"
            ]
          },
          "metadata": {},
          "execution_count": 28
        }
      ],
      "source": [
        "ranks_pr = nx.pagerank(G)\n",
        "ranks_pr"
      ]
    },
    {
      "cell_type": "markdown",
      "id": "70ebd58b",
      "metadata": {
        "id": "70ebd58b"
      },
      "source": [
        "You should see that nodes with more in-links get higher scores."
      ]
    },
    {
      "cell_type": "markdown",
      "id": "ca70de08",
      "metadata": {
        "id": "ca70de08"
      },
      "source": [
        "##  Random Walk\n",
        "\n",
        "One way to interpret PageRank is in terms of a random walk.\n",
        "Suppose you choose a node at random, then choose one of its out-links at random, and continue like that, making a note of each node you visit.\n",
        "\n",
        "If a node has a lot of in-links, you are likely to visit it more often.\n",
        "And if those in-links come from nodes with many in-links, even more so.\n",
        "\n",
        "However, there is one catch: if a node contains no out-links, or if a set of nodes form a loop with no out-links, the random walker could get trapped.\n",
        "\n",
        "To avoid that, we'll modify the random walk so at every step there is some probability that the walker jumps to a random node rather than following a link.\n",
        "This probability is determined by a parameter, `alpha`, which is the probability of following a link, so `1-alpha` is the probability of making a random jump."
      ]
    },
    {
      "cell_type": "markdown",
      "id": "feaafd15",
      "metadata": {
        "id": "feaafd15"
      },
      "source": [
        "The following function implements a random walk, with these random jumps, and uses a `Counter` to keep track of the number of times it visits each node.\n",
        "\n",
        "It returns the `Counter` with the frequencies normalized to add up to one.\n",
        "If everything goes according to plan, these values should approximate the results from PageRank."
      ]
    },
    {
      "cell_type": "code",
      "execution_count": null,
      "id": "65ba086c",
      "metadata": {
        "id": "65ba086c"
      },
      "outputs": [],
      "source": [
        "import numpy as np\n",
        "\n",
        "def flip(p):\n",
        "    return np.random.random() < p"
      ]
    },
    {
      "cell_type": "code",
      "execution_count": null,
      "id": "3dc1eea9",
      "metadata": {
        "tags": [],
        "id": "3dc1eea9"
      },
      "outputs": [],
      "source": [
        "from collections import Counter\n",
        "\n",
        "def random_walk(G, alpha=0.85, iters=1000):\n",
        "    counter = Counter()\n",
        "    node = next(iter(G))\n",
        "    \n",
        "    for _ in range(iters):\n",
        "        if flip(alpha):\n",
        "            node = np.random.choice(list(G[node]))\n",
        "        else:\n",
        "            node = np.random.choice(list(G))\n",
        "        \n",
        "        counter[node] += 1\n",
        "        \n",
        "    total = sum(counter.values())\n",
        "    for key in counter:\n",
        "        counter[key] /= total\n",
        "    return counter"
      ]
    },
    {
      "cell_type": "markdown",
      "id": "3f21a00a",
      "metadata": {
        "id": "3f21a00a"
      },
      "source": [
        "The default value of `alpha` is 0.85, which is the same as the default value for `nx.pagerank`.\n",
        "\n",
        "Here are the scores we get from the random walk."
      ]
    },
    {
      "cell_type": "code",
      "execution_count": null,
      "id": "4d64c038",
      "metadata": {
        "id": "4d64c038",
        "outputId": "a0594ecb-fbf0-4176-8eb9-44c60754fa4c",
        "colab": {
          "base_uri": "https://localhost:8080/"
        }
      },
      "outputs": [
        {
          "output_type": "execute_result",
          "data": {
            "text/plain": [
              "Counter({5: 0.549,\n",
              "         0: 0.273,\n",
              "         1: 0.029,\n",
              "         6: 0.029,\n",
              "         2: 0.039,\n",
              "         7: 0.026,\n",
              "         3: 0.014,\n",
              "         4: 0.041})"
            ]
          },
          "metadata": {},
          "execution_count": 31
        }
      ],
      "source": [
        "ranks_rw = random_walk(G)\n",
        "ranks_rw"
      ]
    },
    {
      "cell_type": "markdown",
      "id": "2d7b67bd",
      "metadata": {
        "id": "2d7b67bd"
      },
      "source": [
        "To compare them to the results from PageRank, I'll put them in a Pandas `DataFrame`."
      ]
    },
    {
      "cell_type": "code",
      "execution_count": null,
      "id": "f31d6890",
      "metadata": {
        "id": "f31d6890",
        "outputId": "056fbada-a3ab-4fa8-e17d-87513e18d2c3",
        "colab": {
          "base_uri": "https://localhost:8080/",
          "height": 300
        }
      },
      "outputs": [
        {
          "output_type": "execute_result",
          "data": {
            "text/plain": [
              "    PageRank  RandomWalk      Diff\n",
              "0  27.663492        27.3 -0.363492\n",
              "1   3.260928         2.9 -0.360928\n",
              "2   3.260928         3.9  0.639072\n",
              "3   1.875000         1.4 -0.475000\n",
              "4   3.260928         4.1  0.839072\n",
              "5  54.156871        54.9  0.743129\n",
              "6   3.260928         2.9 -0.360928\n",
              "7   3.260928         2.6 -0.660928"
            ],
            "text/html": [
              "\n",
              "  <div id=\"df-62a650da-95a8-40f4-9c68-11f3b01ac2d2\">\n",
              "    <div class=\"colab-df-container\">\n",
              "      <div>\n",
              "<style scoped>\n",
              "    .dataframe tbody tr th:only-of-type {\n",
              "        vertical-align: middle;\n",
              "    }\n",
              "\n",
              "    .dataframe tbody tr th {\n",
              "        vertical-align: top;\n",
              "    }\n",
              "\n",
              "    .dataframe thead th {\n",
              "        text-align: right;\n",
              "    }\n",
              "</style>\n",
              "<table border=\"1\" class=\"dataframe\">\n",
              "  <thead>\n",
              "    <tr style=\"text-align: right;\">\n",
              "      <th></th>\n",
              "      <th>PageRank</th>\n",
              "      <th>RandomWalk</th>\n",
              "      <th>Diff</th>\n",
              "    </tr>\n",
              "  </thead>\n",
              "  <tbody>\n",
              "    <tr>\n",
              "      <th>0</th>\n",
              "      <td>27.663492</td>\n",
              "      <td>27.3</td>\n",
              "      <td>-0.363492</td>\n",
              "    </tr>\n",
              "    <tr>\n",
              "      <th>1</th>\n",
              "      <td>3.260928</td>\n",
              "      <td>2.9</td>\n",
              "      <td>-0.360928</td>\n",
              "    </tr>\n",
              "    <tr>\n",
              "      <th>2</th>\n",
              "      <td>3.260928</td>\n",
              "      <td>3.9</td>\n",
              "      <td>0.639072</td>\n",
              "    </tr>\n",
              "    <tr>\n",
              "      <th>3</th>\n",
              "      <td>1.875000</td>\n",
              "      <td>1.4</td>\n",
              "      <td>-0.475000</td>\n",
              "    </tr>\n",
              "    <tr>\n",
              "      <th>4</th>\n",
              "      <td>3.260928</td>\n",
              "      <td>4.1</td>\n",
              "      <td>0.839072</td>\n",
              "    </tr>\n",
              "    <tr>\n",
              "      <th>5</th>\n",
              "      <td>54.156871</td>\n",
              "      <td>54.9</td>\n",
              "      <td>0.743129</td>\n",
              "    </tr>\n",
              "    <tr>\n",
              "      <th>6</th>\n",
              "      <td>3.260928</td>\n",
              "      <td>2.9</td>\n",
              "      <td>-0.360928</td>\n",
              "    </tr>\n",
              "    <tr>\n",
              "      <th>7</th>\n",
              "      <td>3.260928</td>\n",
              "      <td>2.6</td>\n",
              "      <td>-0.660928</td>\n",
              "    </tr>\n",
              "  </tbody>\n",
              "</table>\n",
              "</div>\n",
              "      <button class=\"colab-df-convert\" onclick=\"convertToInteractive('df-62a650da-95a8-40f4-9c68-11f3b01ac2d2')\"\n",
              "              title=\"Convert this dataframe to an interactive table.\"\n",
              "              style=\"display:none;\">\n",
              "        \n",
              "  <svg xmlns=\"http://www.w3.org/2000/svg\" height=\"24px\"viewBox=\"0 0 24 24\"\n",
              "       width=\"24px\">\n",
              "    <path d=\"M0 0h24v24H0V0z\" fill=\"none\"/>\n",
              "    <path d=\"M18.56 5.44l.94 2.06.94-2.06 2.06-.94-2.06-.94-.94-2.06-.94 2.06-2.06.94zm-11 1L8.5 8.5l.94-2.06 2.06-.94-2.06-.94L8.5 2.5l-.94 2.06-2.06.94zm10 10l.94 2.06.94-2.06 2.06-.94-2.06-.94-.94-2.06-.94 2.06-2.06.94z\"/><path d=\"M17.41 7.96l-1.37-1.37c-.4-.4-.92-.59-1.43-.59-.52 0-1.04.2-1.43.59L10.3 9.45l-7.72 7.72c-.78.78-.78 2.05 0 2.83L4 21.41c.39.39.9.59 1.41.59.51 0 1.02-.2 1.41-.59l7.78-7.78 2.81-2.81c.8-.78.8-2.07 0-2.86zM5.41 20L4 18.59l7.72-7.72 1.47 1.35L5.41 20z\"/>\n",
              "  </svg>\n",
              "      </button>\n",
              "      \n",
              "  <style>\n",
              "    .colab-df-container {\n",
              "      display:flex;\n",
              "      flex-wrap:wrap;\n",
              "      gap: 12px;\n",
              "    }\n",
              "\n",
              "    .colab-df-convert {\n",
              "      background-color: #E8F0FE;\n",
              "      border: none;\n",
              "      border-radius: 50%;\n",
              "      cursor: pointer;\n",
              "      display: none;\n",
              "      fill: #1967D2;\n",
              "      height: 32px;\n",
              "      padding: 0 0 0 0;\n",
              "      width: 32px;\n",
              "    }\n",
              "\n",
              "    .colab-df-convert:hover {\n",
              "      background-color: #E2EBFA;\n",
              "      box-shadow: 0px 1px 2px rgba(60, 64, 67, 0.3), 0px 1px 3px 1px rgba(60, 64, 67, 0.15);\n",
              "      fill: #174EA6;\n",
              "    }\n",
              "\n",
              "    [theme=dark] .colab-df-convert {\n",
              "      background-color: #3B4455;\n",
              "      fill: #D2E3FC;\n",
              "    }\n",
              "\n",
              "    [theme=dark] .colab-df-convert:hover {\n",
              "      background-color: #434B5C;\n",
              "      box-shadow: 0px 1px 3px 1px rgba(0, 0, 0, 0.15);\n",
              "      filter: drop-shadow(0px 1px 2px rgba(0, 0, 0, 0.3));\n",
              "      fill: #FFFFFF;\n",
              "    }\n",
              "  </style>\n",
              "\n",
              "      <script>\n",
              "        const buttonEl =\n",
              "          document.querySelector('#df-62a650da-95a8-40f4-9c68-11f3b01ac2d2 button.colab-df-convert');\n",
              "        buttonEl.style.display =\n",
              "          google.colab.kernel.accessAllowed ? 'block' : 'none';\n",
              "\n",
              "        async function convertToInteractive(key) {\n",
              "          const element = document.querySelector('#df-62a650da-95a8-40f4-9c68-11f3b01ac2d2');\n",
              "          const dataTable =\n",
              "            await google.colab.kernel.invokeFunction('convertToInteractive',\n",
              "                                                     [key], {});\n",
              "          if (!dataTable) return;\n",
              "\n",
              "          const docLinkHtml = 'Like what you see? Visit the ' +\n",
              "            '<a target=\"_blank\" href=https://colab.research.google.com/notebooks/data_table.ipynb>data table notebook</a>'\n",
              "            + ' to learn more about interactive tables.';\n",
              "          element.innerHTML = '';\n",
              "          dataTable['output_type'] = 'display_data';\n",
              "          await google.colab.output.renderOutput(dataTable, element);\n",
              "          const docLink = document.createElement('div');\n",
              "          docLink.innerHTML = docLinkHtml;\n",
              "          element.appendChild(docLink);\n",
              "        }\n",
              "      </script>\n",
              "    </div>\n",
              "  </div>\n",
              "  "
            ]
          },
          "metadata": {},
          "execution_count": 32
        }
      ],
      "source": [
        "import pandas as pd\n",
        "\n",
        "s1 = pd.Series(ranks_pr)\n",
        "s2 = pd.Series(ranks_rw)\n",
        "\n",
        "df = pd.DataFrame(dict(PageRank=s1, RandomWalk=s2))\n",
        "df['Diff'] = df['RandomWalk'] - df['PageRank']\n",
        "df*100"
      ]
    },
    {
      "cell_type": "markdown",
      "id": "7198e90d",
      "metadata": {
        "id": "7198e90d"
      },
      "source": [
        "The differences should be a few percentage points at most."
      ]
    },
    {
      "cell_type": "markdown",
      "id": "cc639456",
      "metadata": {
        "id": "cc639456"
      },
      "source": [
        "## Adjacency Matrix\n",
        "\n",
        "The random walk implementation of PageRank is conceptually simple, but not very efficient to compute.\n",
        "An alternative is to use a matrix to represent the links from each node to every other node, and compute the eigenvectors of that matrix.\n",
        "\n",
        "In this section, I'll demonstrate this computation and explain how it works.\n",
        "The code here is based on the [implementation of PageRank in NetworkX](https://networkx.org/documentation/stable/_modules/networkx/algorithms/link_analysis/pagerank_alg.html)."
      ]
    },
    {
      "cell_type": "markdown",
      "id": "54242006",
      "metadata": {
        "id": "54242006"
      },
      "source": [
        "NetworkX provides a function that creates a NumPy array that represents the [adjacency matrix](https://en.wikipedia.org/wiki/Adjacency_matrix) of the graph."
      ]
    },
    {
      "cell_type": "code",
      "execution_count": null,
      "id": "3412dff5",
      "metadata": {
        "tags": [],
        "id": "3412dff5",
        "outputId": "41a1196a-506a-4d64-a03f-84d3191c995b",
        "colab": {
          "base_uri": "https://localhost:8080/"
        }
      },
      "outputs": [
        {
          "output_type": "execute_result",
          "data": {
            "text/plain": [
              "array([[0., 0., 0., 0., 0., 2., 0., 0.],\n",
              "       [1., 0., 0., 0., 0., 1., 0., 0.],\n",
              "       [0., 0., 0., 0., 1., 1., 0., 0.],\n",
              "       [0., 0., 0., 0., 0., 2., 0., 0.],\n",
              "       [1., 0., 1., 0., 0., 0., 0., 0.],\n",
              "       [1., 0., 0., 0., 0., 1., 0., 0.],\n",
              "       [0., 0., 0., 0., 0., 1., 0., 1.],\n",
              "       [0., 1., 0., 0., 0., 0., 1., 0.]])"
            ]
          },
          "metadata": {},
          "execution_count": 33
        }
      ],
      "source": [
        "M = nx.to_numpy_array(G)\n",
        "M"
      ]
    },
    {
      "cell_type": "markdown",
      "id": "01a01d14",
      "metadata": {
        "id": "01a01d14"
      },
      "source": [
        "In this matrix, the element in row `i`, column `j` indicates the number of edges from node `i` to node `j`.\n",
        "\n",
        "If we normalize each row so it adds up to one, each element of the result represents the probability of a transition from one node to another."
      ]
    },
    {
      "cell_type": "code",
      "execution_count": null,
      "id": "59d2ba7d",
      "metadata": {
        "tags": [],
        "id": "59d2ba7d",
        "outputId": "156eb784-866d-406d-a219-10796df48b1b",
        "colab": {
          "base_uri": "https://localhost:8080/"
        }
      },
      "outputs": [
        {
          "output_type": "execute_result",
          "data": {
            "text/plain": [
              "array([[0. , 0.5, 0. , 0.5, 0. , 0. , 0. , 0. ],\n",
              "       [0. , 0. , 0.5, 0.5, 0. , 0. , 0. , 0. ],\n",
              "       [0.5, 0. , 0. , 0. , 0. , 0. , 0. , 0.5],\n",
              "       [0.5, 0.5, 0. , 0. , 0. , 0. , 0. , 0. ],\n",
              "       [0. , 0. , 0. , 1. , 0. , 0. , 0. , 0. ],\n",
              "       [0.5, 0. , 0. , 0. , 0. , 0. , 0.5, 0. ],\n",
              "       [0. , 0. , 0. , 0.5, 0. , 0. , 0.5, 0. ],\n",
              "       [0. , 0. , 0. , 0.5, 0. , 0. , 0.5, 0. ]])"
            ]
          },
          "metadata": {},
          "execution_count": 9
        }
      ],
      "source": [
        "M /= M.sum(axis=1)\n",
        "M"
      ]
    },
    {
      "cell_type": "markdown",
      "id": "4f27621a",
      "metadata": {
        "id": "4f27621a"
      },
      "source": [
        "We can use this matrix to simulate a random walk with many walkers at the same time.\n",
        "For example, suppose we start with 100 walkers at each node, represented by the array `x`:\n"
      ]
    },
    {
      "cell_type": "code",
      "execution_count": null,
      "id": "f4f6e8eb",
      "metadata": {
        "tags": [],
        "id": "f4f6e8eb",
        "outputId": "7efd7b52-8b8b-4997-aafd-fd5445333d63",
        "colab": {
          "base_uri": "https://localhost:8080/"
        }
      },
      "outputs": [
        {
          "output_type": "execute_result",
          "data": {
            "text/plain": [
              "array([100, 100, 100, 100, 100, 100, 100, 100])"
            ]
          },
          "metadata": {},
          "execution_count": 34
        }
      ],
      "source": [
        "N = len(G)\n",
        "x = np.full(N, 100)\n",
        "x"
      ]
    },
    {
      "cell_type": "markdown",
      "id": "04878535",
      "metadata": {
        "id": "04878535"
      },
      "source": [
        "If we transpose `M`, we get a [transition matrix](https://en.wikipedia.org/wiki/Stochastic_matrix) where the element at row `i` and column `j` is the fraction of walkers at node `j` that move to node `i`.\n",
        "\n",
        "If we multiply the transition matrix by `x`, the result is an array with the number of walkers at each node after one time step."
      ]
    },
    {
      "cell_type": "code",
      "execution_count": null,
      "id": "1121ed95",
      "metadata": {
        "tags": [],
        "id": "1121ed95",
        "outputId": "880f86e8-fd75-4f16-c846-c9e562abb3f4",
        "colab": {
          "base_uri": "https://localhost:8080/"
        }
      },
      "outputs": [
        {
          "output_type": "execute_result",
          "data": {
            "text/plain": [
              "array([4.58129845e+12, 1.00000000e+02, 1.00000000e+02, 0.00000000e+00,\n",
              "       1.00000000e+02, 9.16259690e+12, 1.00000000e+02, 1.00000000e+02])"
            ]
          },
          "metadata": {},
          "execution_count": 68
        }
      ],
      "source": [
        "x = M.T @ x\n",
        "x"
      ]
    },
    {
      "cell_type": "markdown",
      "id": "97e463a1",
      "metadata": {
        "id": "97e463a1"
      },
      "source": [
        "If you run that cell a few times, you should find that it converges to a steady state where the number of walkers at each node doesn't change much from one time step to the next.\n",
        "\n",
        "However, you might notice that some nodes lose all of their walkers.\n",
        "That's because the random walk we've simulated doesn't include random jumps.\n",
        "\n",
        "To add random jumps, we can create another matrix that include transitions from all nodes to all other nodes with equal probability."
      ]
    },
    {
      "cell_type": "code",
      "execution_count": null,
      "id": "9c18699e",
      "metadata": {
        "tags": [],
        "id": "9c18699e",
        "outputId": "025b54f0-476a-49ab-c9c9-4a6624faef6f",
        "colab": {
          "base_uri": "https://localhost:8080/"
        }
      },
      "outputs": [
        {
          "output_type": "execute_result",
          "data": {
            "text/plain": [
              "array([[0.125, 0.125, 0.125, 0.125, 0.125, 0.125, 0.125, 0.125],\n",
              "       [0.125, 0.125, 0.125, 0.125, 0.125, 0.125, 0.125, 0.125],\n",
              "       [0.125, 0.125, 0.125, 0.125, 0.125, 0.125, 0.125, 0.125],\n",
              "       [0.125, 0.125, 0.125, 0.125, 0.125, 0.125, 0.125, 0.125],\n",
              "       [0.125, 0.125, 0.125, 0.125, 0.125, 0.125, 0.125, 0.125],\n",
              "       [0.125, 0.125, 0.125, 0.125, 0.125, 0.125, 0.125, 0.125],\n",
              "       [0.125, 0.125, 0.125, 0.125, 0.125, 0.125, 0.125, 0.125],\n",
              "       [0.125, 0.125, 0.125, 0.125, 0.125, 0.125, 0.125, 0.125]])"
            ]
          },
          "metadata": {},
          "execution_count": 69
        }
      ],
      "source": [
        "p = np.full((N, N), 1/N)\n",
        "p"
      ]
    },
    {
      "cell_type": "markdown",
      "id": "fb4753d5",
      "metadata": {
        "id": "fb4753d5"
      },
      "source": [
        "Now we'll use the parameter `alpha` to compute a weighted sum of `M` and `p`. "
      ]
    },
    {
      "cell_type": "code",
      "execution_count": null,
      "id": "6bd44ad2",
      "metadata": {
        "tags": [],
        "id": "6bd44ad2"
      },
      "outputs": [],
      "source": [
        "alpha = 0.85\n",
        "GM = alpha * M + (1 - alpha) * p"
      ]
    },
    {
      "cell_type": "markdown",
      "id": "ad0ac9bf",
      "metadata": {
        "id": "ad0ac9bf"
      },
      "source": [
        "The result is a \"Google matrix\" that represents transitions in a random walk, including random jumps.\n",
        "\n",
        "So let's start again with an equal number of walkers on all nodes and simulate 10 time steps."
      ]
    },
    {
      "cell_type": "code",
      "execution_count": null,
      "id": "fa72d06c",
      "metadata": {
        "tags": [],
        "id": "fa72d06c"
      },
      "outputs": [],
      "source": [
        "x = np.full(N, 100)\n",
        "\n",
        "for i in range(10):\n",
        "    x = GM.T @ x"
      ]
    },
    {
      "cell_type": "markdown",
      "id": "c693772a",
      "metadata": {
        "id": "c693772a"
      },
      "source": [
        "If we normalize `x` so it adds up to one, the result should approximate the ranks we got from PageRank."
      ]
    },
    {
      "cell_type": "code",
      "execution_count": null,
      "id": "c20c87fe",
      "metadata": {
        "tags": [],
        "id": "c20c87fe",
        "outputId": "c0d26b46-6168-43c7-c904-eeaf24824ebd",
        "colab": {
          "base_uri": "https://localhost:8080/"
        }
      },
      "outputs": [
        {
          "output_type": "execute_result",
          "data": {
            "text/plain": [
              "array([0.30083466, 0.01879455, 0.01879455, 0.01013514, 0.01879455,\n",
              "       0.59505748, 0.01879455, 0.01879455])"
            ]
          },
          "metadata": {},
          "execution_count": 78
        }
      ],
      "source": [
        "ranks_am = x / x.sum()\n",
        "ranks_am"
      ]
    },
    {
      "cell_type": "markdown",
      "id": "34e9f3ce",
      "metadata": {
        "id": "34e9f3ce"
      },
      "source": [
        "Here's the table that compares the results."
      ]
    },
    {
      "cell_type": "code",
      "execution_count": null,
      "id": "538db716",
      "metadata": {
        "id": "538db716",
        "outputId": "a57599f4-810f-4891-a214-4b4c231621d1",
        "colab": {
          "base_uri": "https://localhost:8080/",
          "height": 300
        }
      },
      "outputs": [
        {
          "output_type": "execute_result",
          "data": {
            "text/plain": [
              "    PageRank  AdjMatrix      Diff\n",
              "0  27.663492  30.083466  2.419975\n",
              "1   3.260928   1.879455 -1.381473\n",
              "2   3.260928   1.879455 -1.381473\n",
              "3   1.875000   1.013514 -0.861486\n",
              "4   3.260928   1.879455 -1.381473\n",
              "5  54.156871  59.505748  5.348877\n",
              "6   3.260928   1.879455 -1.381473\n",
              "7   3.260928   1.879455 -1.381473"
            ],
            "text/html": [
              "\n",
              "  <div id=\"df-73f6b5c9-dfd4-4f4d-b9c8-4b34dd30d4bd\">\n",
              "    <div class=\"colab-df-container\">\n",
              "      <div>\n",
              "<style scoped>\n",
              "    .dataframe tbody tr th:only-of-type {\n",
              "        vertical-align: middle;\n",
              "    }\n",
              "\n",
              "    .dataframe tbody tr th {\n",
              "        vertical-align: top;\n",
              "    }\n",
              "\n",
              "    .dataframe thead th {\n",
              "        text-align: right;\n",
              "    }\n",
              "</style>\n",
              "<table border=\"1\" class=\"dataframe\">\n",
              "  <thead>\n",
              "    <tr style=\"text-align: right;\">\n",
              "      <th></th>\n",
              "      <th>PageRank</th>\n",
              "      <th>AdjMatrix</th>\n",
              "      <th>Diff</th>\n",
              "    </tr>\n",
              "  </thead>\n",
              "  <tbody>\n",
              "    <tr>\n",
              "      <th>0</th>\n",
              "      <td>27.663492</td>\n",
              "      <td>30.083466</td>\n",
              "      <td>2.419975</td>\n",
              "    </tr>\n",
              "    <tr>\n",
              "      <th>1</th>\n",
              "      <td>3.260928</td>\n",
              "      <td>1.879455</td>\n",
              "      <td>-1.381473</td>\n",
              "    </tr>\n",
              "    <tr>\n",
              "      <th>2</th>\n",
              "      <td>3.260928</td>\n",
              "      <td>1.879455</td>\n",
              "      <td>-1.381473</td>\n",
              "    </tr>\n",
              "    <tr>\n",
              "      <th>3</th>\n",
              "      <td>1.875000</td>\n",
              "      <td>1.013514</td>\n",
              "      <td>-0.861486</td>\n",
              "    </tr>\n",
              "    <tr>\n",
              "      <th>4</th>\n",
              "      <td>3.260928</td>\n",
              "      <td>1.879455</td>\n",
              "      <td>-1.381473</td>\n",
              "    </tr>\n",
              "    <tr>\n",
              "      <th>5</th>\n",
              "      <td>54.156871</td>\n",
              "      <td>59.505748</td>\n",
              "      <td>5.348877</td>\n",
              "    </tr>\n",
              "    <tr>\n",
              "      <th>6</th>\n",
              "      <td>3.260928</td>\n",
              "      <td>1.879455</td>\n",
              "      <td>-1.381473</td>\n",
              "    </tr>\n",
              "    <tr>\n",
              "      <th>7</th>\n",
              "      <td>3.260928</td>\n",
              "      <td>1.879455</td>\n",
              "      <td>-1.381473</td>\n",
              "    </tr>\n",
              "  </tbody>\n",
              "</table>\n",
              "</div>\n",
              "      <button class=\"colab-df-convert\" onclick=\"convertToInteractive('df-73f6b5c9-dfd4-4f4d-b9c8-4b34dd30d4bd')\"\n",
              "              title=\"Convert this dataframe to an interactive table.\"\n",
              "              style=\"display:none;\">\n",
              "        \n",
              "  <svg xmlns=\"http://www.w3.org/2000/svg\" height=\"24px\"viewBox=\"0 0 24 24\"\n",
              "       width=\"24px\">\n",
              "    <path d=\"M0 0h24v24H0V0z\" fill=\"none\"/>\n",
              "    <path d=\"M18.56 5.44l.94 2.06.94-2.06 2.06-.94-2.06-.94-.94-2.06-.94 2.06-2.06.94zm-11 1L8.5 8.5l.94-2.06 2.06-.94-2.06-.94L8.5 2.5l-.94 2.06-2.06.94zm10 10l.94 2.06.94-2.06 2.06-.94-2.06-.94-.94-2.06-.94 2.06-2.06.94z\"/><path d=\"M17.41 7.96l-1.37-1.37c-.4-.4-.92-.59-1.43-.59-.52 0-1.04.2-1.43.59L10.3 9.45l-7.72 7.72c-.78.78-.78 2.05 0 2.83L4 21.41c.39.39.9.59 1.41.59.51 0 1.02-.2 1.41-.59l7.78-7.78 2.81-2.81c.8-.78.8-2.07 0-2.86zM5.41 20L4 18.59l7.72-7.72 1.47 1.35L5.41 20z\"/>\n",
              "  </svg>\n",
              "      </button>\n",
              "      \n",
              "  <style>\n",
              "    .colab-df-container {\n",
              "      display:flex;\n",
              "      flex-wrap:wrap;\n",
              "      gap: 12px;\n",
              "    }\n",
              "\n",
              "    .colab-df-convert {\n",
              "      background-color: #E8F0FE;\n",
              "      border: none;\n",
              "      border-radius: 50%;\n",
              "      cursor: pointer;\n",
              "      display: none;\n",
              "      fill: #1967D2;\n",
              "      height: 32px;\n",
              "      padding: 0 0 0 0;\n",
              "      width: 32px;\n",
              "    }\n",
              "\n",
              "    .colab-df-convert:hover {\n",
              "      background-color: #E2EBFA;\n",
              "      box-shadow: 0px 1px 2px rgba(60, 64, 67, 0.3), 0px 1px 3px 1px rgba(60, 64, 67, 0.15);\n",
              "      fill: #174EA6;\n",
              "    }\n",
              "\n",
              "    [theme=dark] .colab-df-convert {\n",
              "      background-color: #3B4455;\n",
              "      fill: #D2E3FC;\n",
              "    }\n",
              "\n",
              "    [theme=dark] .colab-df-convert:hover {\n",
              "      background-color: #434B5C;\n",
              "      box-shadow: 0px 1px 3px 1px rgba(0, 0, 0, 0.15);\n",
              "      filter: drop-shadow(0px 1px 2px rgba(0, 0, 0, 0.3));\n",
              "      fill: #FFFFFF;\n",
              "    }\n",
              "  </style>\n",
              "\n",
              "      <script>\n",
              "        const buttonEl =\n",
              "          document.querySelector('#df-73f6b5c9-dfd4-4f4d-b9c8-4b34dd30d4bd button.colab-df-convert');\n",
              "        buttonEl.style.display =\n",
              "          google.colab.kernel.accessAllowed ? 'block' : 'none';\n",
              "\n",
              "        async function convertToInteractive(key) {\n",
              "          const element = document.querySelector('#df-73f6b5c9-dfd4-4f4d-b9c8-4b34dd30d4bd');\n",
              "          const dataTable =\n",
              "            await google.colab.kernel.invokeFunction('convertToInteractive',\n",
              "                                                     [key], {});\n",
              "          if (!dataTable) return;\n",
              "\n",
              "          const docLinkHtml = 'Like what you see? Visit the ' +\n",
              "            '<a target=\"_blank\" href=https://colab.research.google.com/notebooks/data_table.ipynb>data table notebook</a>'\n",
              "            + ' to learn more about interactive tables.';\n",
              "          element.innerHTML = '';\n",
              "          dataTable['output_type'] = 'display_data';\n",
              "          await google.colab.output.renderOutput(dataTable, element);\n",
              "          const docLink = document.createElement('div');\n",
              "          docLink.innerHTML = docLinkHtml;\n",
              "          element.appendChild(docLink);\n",
              "        }\n",
              "      </script>\n",
              "    </div>\n",
              "  </div>\n",
              "  "
            ]
          },
          "metadata": {},
          "execution_count": 79
        }
      ],
      "source": [
        "import pandas as pd\n",
        "\n",
        "s1 = pd.Series(ranks_pr)\n",
        "s2 = pd.Series(ranks_am)\n",
        "\n",
        "df = pd.DataFrame(dict(PageRank=s1, AdjMatrix=s2))\n",
        "df['Diff'] = df['AdjMatrix'] - df['PageRank']\n",
        "df*100"
      ]
    },
    {
      "cell_type": "markdown",
      "id": "c6eee32e",
      "metadata": {
        "id": "c6eee32e"
      },
      "source": [
        "## Eigenvectors\n",
        "\n",
        "If you start with almost any vector and multiply by a matrix repeatedly, as we did in the previous section, the result will converge to the eigenvector of the matrix that corresponds to the largest eigenvalue.\n",
        "\n",
        "In fact, repeated multiplication is one of the algorithms used to compute eigenvalues: it is called [power iteration](https://en.wikipedia.org/wiki/Power_iteration).\n",
        "\n",
        "Instead of using an iterative method, we can also compute eigenvalues directly, which is what the Numpy function `eig` does.\n",
        "Here are the eigenvalues and eigenvectors of the Google matrix."
      ]
    },
    {
      "cell_type": "code",
      "execution_count": null,
      "id": "14cc38c2",
      "metadata": {
        "tags": [],
        "id": "14cc38c2",
        "outputId": "0429fc02-e6f1-4eab-9efe-44a9317df482",
        "colab": {
          "base_uri": "https://localhost:8080/"
        }
      },
      "outputs": [
        {
          "output_type": "execute_result",
          "data": {
            "text/plain": [
              "array([ 1.85000000e+00, -8.50000000e-01, -1.81924875e-17,  8.50000000e-01,\n",
              "        8.50000000e-01,  1.11022302e-16, -8.50000000e-01, -8.50000000e-01])"
            ]
          },
          "metadata": {},
          "execution_count": 80
        }
      ],
      "source": [
        "eigenvalues, eigenvectors = np.linalg.eig(GM.T)\n",
        "eigenvalues"
      ]
    },
    {
      "cell_type": "markdown",
      "id": "681ef09e",
      "metadata": {
        "id": "681ef09e"
      },
      "source": [
        "And here's how we can get the eigenvector corresponding to the largest eigenvalue."
      ]
    },
    {
      "cell_type": "code",
      "execution_count": null,
      "id": "a875ef25",
      "metadata": {
        "id": "a875ef25",
        "outputId": "c5ea47b9-fff9-4b32-f986-e06b005bd660",
        "colab": {
          "base_uri": "https://localhost:8080/"
        }
      },
      "outputs": [
        {
          "output_type": "execute_result",
          "data": {
            "text/plain": [
              "(0, 1.8500000000000019)"
            ]
          },
          "metadata": {},
          "execution_count": 81
        }
      ],
      "source": [
        "ind = np.argmax(eigenvalues)\n",
        "ind, eigenvalues[ind]"
      ]
    },
    {
      "cell_type": "code",
      "execution_count": null,
      "id": "2db0a967",
      "metadata": {
        "id": "2db0a967",
        "outputId": "a59e0ec2-1a65-4abc-c93d-d08b4c90ffab",
        "colab": {
          "base_uri": "https://localhost:8080/"
        }
      },
      "outputs": [
        {
          "output_type": "execute_result",
          "data": {
            "text/plain": [
              "array([0.45014678, 0.02805373, 0.02805373, 0.01516418, 0.02805373,\n",
              "       0.89061937, 0.02805373, 0.02805373])"
            ]
          },
          "metadata": {},
          "execution_count": 82
        }
      ],
      "source": [
        "largest = eigenvectors[:, ind]\n",
        "largest"
      ]
    },
    {
      "cell_type": "markdown",
      "id": "8dc1d717",
      "metadata": {
        "id": "8dc1d717"
      },
      "source": [
        "The result contains complex numbers, but the imaginary parts are all 0, so we can pull out just the real part."
      ]
    },
    {
      "cell_type": "code",
      "execution_count": null,
      "id": "c19fba36",
      "metadata": {
        "id": "c19fba36"
      },
      "outputs": [],
      "source": [
        "largest = largest.real"
      ]
    },
    {
      "cell_type": "markdown",
      "id": "3e9dc6a5",
      "metadata": {
        "id": "3e9dc6a5"
      },
      "source": [
        "And normalize it."
      ]
    },
    {
      "cell_type": "code",
      "execution_count": null,
      "id": "aa33d0fc",
      "metadata": {
        "id": "aa33d0fc",
        "outputId": "a70a6ebc-d0a0-427c-a179-15842012d16c",
        "colab": {
          "base_uri": "https://localhost:8080/"
        }
      },
      "outputs": [
        {
          "output_type": "execute_result",
          "data": {
            "text/plain": [
              "array([0.30086024, 0.01875   , 0.01875   , 0.01013514, 0.01875   ,\n",
              "       0.59525463, 0.01875   , 0.01875   ])"
            ]
          },
          "metadata": {},
          "execution_count": 84
        }
      ],
      "source": [
        "ranks_ev = largest / largest.sum()\n",
        "ranks_ev"
      ]
    },
    {
      "cell_type": "markdown",
      "id": "eccb90b3",
      "metadata": {
        "id": "eccb90b3"
      },
      "source": [
        "The result is the set of ranks based on the eigenvectors of the Google matrix.\n",
        "They should be identical to the results from PageRank, except for small floating-point errors."
      ]
    },
    {
      "cell_type": "code",
      "execution_count": null,
      "id": "8c6a11e9",
      "metadata": {
        "id": "8c6a11e9",
        "outputId": "1f5bedcc-8677-4ccb-cc0f-c221fd67955b",
        "colab": {
          "base_uri": "https://localhost:8080/",
          "height": 300
        }
      },
      "outputs": [
        {
          "output_type": "execute_result",
          "data": {
            "text/plain": [
              "    PageRank  Eigenvector      Diff\n",
              "0  27.663492    30.086024  2.422532\n",
              "1   3.260928     1.875000 -1.385928\n",
              "2   3.260928     1.875000 -1.385928\n",
              "3   1.875000     1.013514 -0.861486\n",
              "4   3.260928     1.875000 -1.385928\n",
              "5  54.156871    59.525463  5.368592\n",
              "6   3.260928     1.875000 -1.385928\n",
              "7   3.260928     1.875000 -1.385928"
            ],
            "text/html": [
              "\n",
              "  <div id=\"df-e0ee331e-915d-4f3b-b684-3d3912e01547\">\n",
              "    <div class=\"colab-df-container\">\n",
              "      <div>\n",
              "<style scoped>\n",
              "    .dataframe tbody tr th:only-of-type {\n",
              "        vertical-align: middle;\n",
              "    }\n",
              "\n",
              "    .dataframe tbody tr th {\n",
              "        vertical-align: top;\n",
              "    }\n",
              "\n",
              "    .dataframe thead th {\n",
              "        text-align: right;\n",
              "    }\n",
              "</style>\n",
              "<table border=\"1\" class=\"dataframe\">\n",
              "  <thead>\n",
              "    <tr style=\"text-align: right;\">\n",
              "      <th></th>\n",
              "      <th>PageRank</th>\n",
              "      <th>Eigenvector</th>\n",
              "      <th>Diff</th>\n",
              "    </tr>\n",
              "  </thead>\n",
              "  <tbody>\n",
              "    <tr>\n",
              "      <th>0</th>\n",
              "      <td>27.663492</td>\n",
              "      <td>30.086024</td>\n",
              "      <td>2.422532</td>\n",
              "    </tr>\n",
              "    <tr>\n",
              "      <th>1</th>\n",
              "      <td>3.260928</td>\n",
              "      <td>1.875000</td>\n",
              "      <td>-1.385928</td>\n",
              "    </tr>\n",
              "    <tr>\n",
              "      <th>2</th>\n",
              "      <td>3.260928</td>\n",
              "      <td>1.875000</td>\n",
              "      <td>-1.385928</td>\n",
              "    </tr>\n",
              "    <tr>\n",
              "      <th>3</th>\n",
              "      <td>1.875000</td>\n",
              "      <td>1.013514</td>\n",
              "      <td>-0.861486</td>\n",
              "    </tr>\n",
              "    <tr>\n",
              "      <th>4</th>\n",
              "      <td>3.260928</td>\n",
              "      <td>1.875000</td>\n",
              "      <td>-1.385928</td>\n",
              "    </tr>\n",
              "    <tr>\n",
              "      <th>5</th>\n",
              "      <td>54.156871</td>\n",
              "      <td>59.525463</td>\n",
              "      <td>5.368592</td>\n",
              "    </tr>\n",
              "    <tr>\n",
              "      <th>6</th>\n",
              "      <td>3.260928</td>\n",
              "      <td>1.875000</td>\n",
              "      <td>-1.385928</td>\n",
              "    </tr>\n",
              "    <tr>\n",
              "      <th>7</th>\n",
              "      <td>3.260928</td>\n",
              "      <td>1.875000</td>\n",
              "      <td>-1.385928</td>\n",
              "    </tr>\n",
              "  </tbody>\n",
              "</table>\n",
              "</div>\n",
              "      <button class=\"colab-df-convert\" onclick=\"convertToInteractive('df-e0ee331e-915d-4f3b-b684-3d3912e01547')\"\n",
              "              title=\"Convert this dataframe to an interactive table.\"\n",
              "              style=\"display:none;\">\n",
              "        \n",
              "  <svg xmlns=\"http://www.w3.org/2000/svg\" height=\"24px\"viewBox=\"0 0 24 24\"\n",
              "       width=\"24px\">\n",
              "    <path d=\"M0 0h24v24H0V0z\" fill=\"none\"/>\n",
              "    <path d=\"M18.56 5.44l.94 2.06.94-2.06 2.06-.94-2.06-.94-.94-2.06-.94 2.06-2.06.94zm-11 1L8.5 8.5l.94-2.06 2.06-.94-2.06-.94L8.5 2.5l-.94 2.06-2.06.94zm10 10l.94 2.06.94-2.06 2.06-.94-2.06-.94-.94-2.06-.94 2.06-2.06.94z\"/><path d=\"M17.41 7.96l-1.37-1.37c-.4-.4-.92-.59-1.43-.59-.52 0-1.04.2-1.43.59L10.3 9.45l-7.72 7.72c-.78.78-.78 2.05 0 2.83L4 21.41c.39.39.9.59 1.41.59.51 0 1.02-.2 1.41-.59l7.78-7.78 2.81-2.81c.8-.78.8-2.07 0-2.86zM5.41 20L4 18.59l7.72-7.72 1.47 1.35L5.41 20z\"/>\n",
              "  </svg>\n",
              "      </button>\n",
              "      \n",
              "  <style>\n",
              "    .colab-df-container {\n",
              "      display:flex;\n",
              "      flex-wrap:wrap;\n",
              "      gap: 12px;\n",
              "    }\n",
              "\n",
              "    .colab-df-convert {\n",
              "      background-color: #E8F0FE;\n",
              "      border: none;\n",
              "      border-radius: 50%;\n",
              "      cursor: pointer;\n",
              "      display: none;\n",
              "      fill: #1967D2;\n",
              "      height: 32px;\n",
              "      padding: 0 0 0 0;\n",
              "      width: 32px;\n",
              "    }\n",
              "\n",
              "    .colab-df-convert:hover {\n",
              "      background-color: #E2EBFA;\n",
              "      box-shadow: 0px 1px 2px rgba(60, 64, 67, 0.3), 0px 1px 3px 1px rgba(60, 64, 67, 0.15);\n",
              "      fill: #174EA6;\n",
              "    }\n",
              "\n",
              "    [theme=dark] .colab-df-convert {\n",
              "      background-color: #3B4455;\n",
              "      fill: #D2E3FC;\n",
              "    }\n",
              "\n",
              "    [theme=dark] .colab-df-convert:hover {\n",
              "      background-color: #434B5C;\n",
              "      box-shadow: 0px 1px 3px 1px rgba(0, 0, 0, 0.15);\n",
              "      filter: drop-shadow(0px 1px 2px rgba(0, 0, 0, 0.3));\n",
              "      fill: #FFFFFF;\n",
              "    }\n",
              "  </style>\n",
              "\n",
              "      <script>\n",
              "        const buttonEl =\n",
              "          document.querySelector('#df-e0ee331e-915d-4f3b-b684-3d3912e01547 button.colab-df-convert');\n",
              "        buttonEl.style.display =\n",
              "          google.colab.kernel.accessAllowed ? 'block' : 'none';\n",
              "\n",
              "        async function convertToInteractive(key) {\n",
              "          const element = document.querySelector('#df-e0ee331e-915d-4f3b-b684-3d3912e01547');\n",
              "          const dataTable =\n",
              "            await google.colab.kernel.invokeFunction('convertToInteractive',\n",
              "                                                     [key], {});\n",
              "          if (!dataTable) return;\n",
              "\n",
              "          const docLinkHtml = 'Like what you see? Visit the ' +\n",
              "            '<a target=\"_blank\" href=https://colab.research.google.com/notebooks/data_table.ipynb>data table notebook</a>'\n",
              "            + ' to learn more about interactive tables.';\n",
              "          element.innerHTML = '';\n",
              "          dataTable['output_type'] = 'display_data';\n",
              "          await google.colab.output.renderOutput(dataTable, element);\n",
              "          const docLink = document.createElement('div');\n",
              "          docLink.innerHTML = docLinkHtml;\n",
              "          element.appendChild(docLink);\n",
              "        }\n",
              "      </script>\n",
              "    </div>\n",
              "  </div>\n",
              "  "
            ]
          },
          "metadata": {},
          "execution_count": 85
        }
      ],
      "source": [
        "import pandas as pd\n",
        "\n",
        "s1 = pd.Series(ranks_pr)\n",
        "s2 = pd.Series(ranks_ev)\n",
        "\n",
        "df = pd.DataFrame(dict(PageRank=s1, Eigenvector=s2))\n",
        "df['Diff'] = df['Eigenvector'] - df['PageRank']\n",
        "df*100"
      ]
    },
    {
      "cell_type": "markdown",
      "id": "3df938ef",
      "metadata": {
        "id": "3df938ef"
      },
      "source": [
        "## Putting it all together\n",
        "\n",
        "The following are simplified versions of the NetworkX functions that compute the Google matrix and the PageRank scores."
      ]
    },
    {
      "cell_type": "code",
      "execution_count": null,
      "id": "23b9c4a1",
      "metadata": {
        "id": "23b9c4a1"
      },
      "outputs": [],
      "source": [
        "def google_matrix(G, alpha=0.85):\n",
        "    \"\"\"Returns the Google matrix of the graph.\n",
        "\n",
        "    Parameters\n",
        "    ----------\n",
        "    G : graph\n",
        "      A NetworkX graph.  Undirected graphs will be converted to a directed\n",
        "      graph with two directed edges for each undirected edge.\n",
        "\n",
        "    alpha : float\n",
        "      The damping factor.\n",
        "\n",
        "    Notes\n",
        "    -----\n",
        "    The matrix returned represents the transition matrix that describes the\n",
        "    Markov chain used in PageRank. For PageRank to converge to a unique\n",
        "    solution (i.e., a unique stationary distribution in a Markov chain), the\n",
        "    transition matrix must be irreducible. In other words, it must be that\n",
        "    there exists a path between every pair of nodes in the graph, or else there\n",
        "    is the potential of \"rank sinks.\"\n",
        "    \"\"\"\n",
        "    M = np.asmatrix(nx.to_numpy_array(G))\n",
        "    N = len(G)\n",
        "    if N == 0:\n",
        "        return M\n",
        "\n",
        "    # Personalization vector\n",
        "    p = np.repeat(1.0 / N, N)\n",
        "    \n",
        "    # Dangling nodes\n",
        "    dangling_weights = p\n",
        "    dangling_nodes = np.where(M.sum(axis=1) == 0)[0]\n",
        "\n",
        "    # Assign dangling_weights to any dangling nodes \n",
        "    # (nodes with no out links)\n",
        "    for node in dangling_nodes:\n",
        "        M[node] = dangling_weights\n",
        "\n",
        "    M /= M.sum(axis=1)  # Normalize rows to sum to 1\n",
        "\n",
        "    return alpha * M + (1 - alpha) * p"
      ]
    },
    {
      "cell_type": "code",
      "execution_count": null,
      "id": "c0f7b486",
      "metadata": {
        "id": "c0f7b486"
      },
      "outputs": [],
      "source": [
        "def pagerank_numpy(G, alpha=0.85):\n",
        "    \"\"\"Returns the PageRank of the nodes in the graph.\n",
        "\n",
        "    PageRank computes a ranking of the nodes in the graph G based on\n",
        "    the structure of the incoming links. It was originally designed as\n",
        "    an algorithm to rank web pages.\n",
        "\n",
        "    Parameters\n",
        "    ----------\n",
        "    G : graph\n",
        "      A NetworkX graph.  Undirected graphs will be converted to a directed\n",
        "      graph with two directed edges for each undirected edge.\n",
        "\n",
        "    alpha : float, optional\n",
        "      Damping parameter for PageRank, default=0.85.\n",
        "\n",
        "    Returns\n",
        "    -------\n",
        "    pagerank : dictionary\n",
        "       Dictionary of nodes with PageRank as value.\n",
        "\n",
        "    Examples\n",
        "    --------\n",
        "    >>> G = nx.DiGraph(nx.path_graph(4))\n",
        "    >>> pr = nx.pagerank_numpy(G, alpha=0.9)\n",
        "\n",
        "    Notes\n",
        "    -----\n",
        "    The eigenvector calculation uses NumPy's interface to the LAPACK\n",
        "    eigenvalue solvers.  This will be the fastest and most accurate\n",
        "    for small graphs.\n",
        "\n",
        "    References\n",
        "    ----------\n",
        "    .. [1] A. Langville and C. Meyer,\n",
        "       \"A survey of eigenvector methods of web information retrieval.\"\n",
        "       http://citeseer.ist.psu.edu/713792.html\n",
        "    .. [2] Page, Lawrence; Brin, Sergey; Motwani, Rajeev and Winograd, Terry,\n",
        "       The PageRank citation ranking: Bringing order to the Web. 1999\n",
        "       http://dbpubs.stanford.edu:8090/pub/showDoc.Fulltext?lang=en&doc=1999-66&format=pdf\n",
        "    \"\"\"\n",
        "    if len(G) == 0:\n",
        "        return {}\n",
        "    M = google_matrix(G, alpha)\n",
        "    \n",
        "    # use numpy LAPACK solver\n",
        "    eigenvalues, eigenvectors = np.linalg.eig(M.T)\n",
        "    ind = np.argmax(eigenvalues)\n",
        "\n",
        "    # eigenvector of largest eigenvalue is at ind, normalized\n",
        "    largest = np.array(eigenvectors[:, ind]).flatten().real\n",
        "    norm = float(largest.sum())\n",
        "    return dict(zip(G, map(float, largest / norm)))"
      ]
    },
    {
      "cell_type": "code",
      "execution_count": null,
      "id": "c4693b4c",
      "metadata": {
        "id": "c4693b4c",
        "outputId": "1352b14d-f980-438a-fe00-2b61b641c873",
        "colab": {
          "base_uri": "https://localhost:8080/"
        }
      },
      "outputs": [
        {
          "output_type": "execute_result",
          "data": {
            "text/plain": [
              "{0: 0.27663520213577425,\n",
              " 1: 0.032608695652173864,\n",
              " 2: 0.03260869565217392,\n",
              " 3: 0.018750000000000006,\n",
              " 4: 0.032608695652173905,\n",
              " 5: 0.5415713196033561,\n",
              " 6: 0.03260869565217392,\n",
              " 7: 0.032608695652173905}"
            ]
          },
          "metadata": {},
          "execution_count": 88
        }
      ],
      "source": [
        "pagerank_numpy(G)"
      ]
    }
  ],
  "metadata": {
    "celltoolbar": "Tags",
    "kernelspec": {
      "display_name": "Python 3 (ipykernel)",
      "language": "python",
      "name": "python3"
    },
    "language_info": {
      "codemirror_mode": {
        "name": "ipython",
        "version": 3
      },
      "file_extension": ".py",
      "mimetype": "text/x-python",
      "name": "python",
      "nbconvert_exporter": "python",
      "pygments_lexer": "ipython3",
      "version": "3.10.1"
    },
    "colab": {
      "provenance": []
    }
  },
  "nbformat": 4,
  "nbformat_minor": 5
}